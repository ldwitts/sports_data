{
 "cells": [
  {
   "cell_type": "code",
   "execution_count": 11,
   "metadata": {},
   "outputs": [],
   "source": [
    "#Imports\n",
    "import pandas as pd\n",
    "from selenium import webdriver\n",
    "from selenium.webdriver.chrome.service import Service\n",
    "from selenium.webdriver.common.by import By\n",
    "from selenium.webdriver.support.ui import WebDriverWait\n",
    "from selenium.webdriver.support import expected_conditions as EC\n",
    "from bs4 import BeautifulSoup\n",
    "from io import StringIO\n",
    "from typing import List, Set, IO"
   ]
  },
  {
   "cell_type": "code",
   "execution_count": 12,
   "metadata": {},
   "outputs": [],
   "source": [
    "# Set up Selenium\n",
    "service: Service = Service()\n",
    "options: webdriver.ChromeOptions = webdriver.ChromeOptions()\n",
    "options.add_argument('--headless')  # Run in headless mode (no GUI)\n",
    "options.add_argument('--no-sandbox')  # Bypass OS security model, needed for running in Docker\n",
    "options.add_argument('--disable-dev-shm-usage')  # Overcome limited resource problems\n",
    "driver: webdriver.Chrome = webdriver.Chrome(service=service, options=options)"
   ]
  },
  {
   "cell_type": "code",
   "execution_count": 13,
   "metadata": {},
   "outputs": [],
   "source": [
    "# URL to scrape\n",
    "url: str = \"https://www.fangraphs.com/standings/playoff-odds\""
   ]
  },
  {
   "cell_type": "code",
   "execution_count": 14,
   "metadata": {},
   "outputs": [],
   "source": [
    "# Navigate to the page\n",
    "driver.get(url)"
   ]
  },
  {
   "cell_type": "code",
   "execution_count": 15,
   "metadata": {},
   "outputs": [
    {
     "data": {
      "text/plain": [
       "[<selenium.webdriver.remote.webelement.WebElement (session=\"09513687e24ee9b72dd071f81bd7663f\", element=\"f.A75D8D6A98B977C78848A521E02B8553.d.6CFD85B813059E8DE2122AE05B32C8AC.e.79\")>,\n",
       " <selenium.webdriver.remote.webelement.WebElement (session=\"09513687e24ee9b72dd071f81bd7663f\", element=\"f.A75D8D6A98B977C78848A521E02B8553.d.6CFD85B813059E8DE2122AE05B32C8AC.e.80\")>,\n",
       " <selenium.webdriver.remote.webelement.WebElement (session=\"09513687e24ee9b72dd071f81bd7663f\", element=\"f.A75D8D6A98B977C78848A521E02B8553.d.6CFD85B813059E8DE2122AE05B32C8AC.e.81\")>,\n",
       " <selenium.webdriver.remote.webelement.WebElement (session=\"09513687e24ee9b72dd071f81bd7663f\", element=\"f.A75D8D6A98B977C78848A521E02B8553.d.6CFD85B813059E8DE2122AE05B32C8AC.e.82\")>,\n",
       " <selenium.webdriver.remote.webelement.WebElement (session=\"09513687e24ee9b72dd071f81bd7663f\", element=\"f.A75D8D6A98B977C78848A521E02B8553.d.6CFD85B813059E8DE2122AE05B32C8AC.e.83\")>,\n",
       " <selenium.webdriver.remote.webelement.WebElement (session=\"09513687e24ee9b72dd071f81bd7663f\", element=\"f.A75D8D6A98B977C78848A521E02B8553.d.6CFD85B813059E8DE2122AE05B32C8AC.e.84\")>,\n",
       " <selenium.webdriver.remote.webelement.WebElement (session=\"09513687e24ee9b72dd071f81bd7663f\", element=\"f.A75D8D6A98B977C78848A521E02B8553.d.6CFD85B813059E8DE2122AE05B32C8AC.e.85\")>,\n",
       " <selenium.webdriver.remote.webelement.WebElement (session=\"09513687e24ee9b72dd071f81bd7663f\", element=\"f.A75D8D6A98B977C78848A521E02B8553.d.6CFD85B813059E8DE2122AE05B32C8AC.e.86\")>,\n",
       " <selenium.webdriver.remote.webelement.WebElement (session=\"09513687e24ee9b72dd071f81bd7663f\", element=\"f.A75D8D6A98B977C78848A521E02B8553.d.6CFD85B813059E8DE2122AE05B32C8AC.e.87\")>,\n",
       " <selenium.webdriver.remote.webelement.WebElement (session=\"09513687e24ee9b72dd071f81bd7663f\", element=\"f.A75D8D6A98B977C78848A521E02B8553.d.6CFD85B813059E8DE2122AE05B32C8AC.e.88\")>,\n",
       " <selenium.webdriver.remote.webelement.WebElement (session=\"09513687e24ee9b72dd071f81bd7663f\", element=\"f.A75D8D6A98B977C78848A521E02B8553.d.6CFD85B813059E8DE2122AE05B32C8AC.e.89\")>,\n",
       " <selenium.webdriver.remote.webelement.WebElement (session=\"09513687e24ee9b72dd071f81bd7663f\", element=\"f.A75D8D6A98B977C78848A521E02B8553.d.6CFD85B813059E8DE2122AE05B32C8AC.e.90\")>]"
      ]
     },
     "execution_count": 15,
     "metadata": {},
     "output_type": "execute_result"
    }
   ],
   "source": [
    "# Wait for the tables to load\n",
    "wait: WebDriverWait = WebDriverWait(driver, 10)\n",
    "wait.until(EC.presence_of_all_elements_located((By.CLASS_NAME, 'playoff-odds-table')))"
   ]
  },
  {
   "cell_type": "code",
   "execution_count": 16,
   "metadata": {},
   "outputs": [],
   "source": [
    "# Get the page source and parse with BeautifulSoup\n",
    "soup: BeautifulSoup = BeautifulSoup(driver.page_source, 'html.parser')"
   ]
  },
  {
   "cell_type": "code",
   "execution_count": 17,
   "metadata": {},
   "outputs": [],
   "source": [
    "# Find all tables with class \"playoff-odds-table\"\n",
    "tables: List[BeautifulSoup] = soup.find_all('table', class_='playoff-odds-table')"
   ]
  },
  {
   "cell_type": "code",
   "execution_count": 18,
   "metadata": {},
   "outputs": [],
   "source": [
    "# Close the Selenium driver\n",
    "driver.quit()"
   ]
  },
  {
   "cell_type": "code",
   "execution_count": 39,
   "metadata": {},
   "outputs": [],
   "source": [
    "for table in unique_tables:\n",
    "    html_str: str = str(table)\n",
    "    html_io: IO[str] = StringIO(html_str)\n",
    "    dfs = pd.read_html(html_io)\n",
    "    df_list.extend(dfs)"
   ]
  },
  {
   "cell_type": "code",
   "execution_count": null,
   "metadata": {},
   "outputs": [],
   "source": []
  }
 ],
 "metadata": {
  "kernelspec": {
   "display_name": "sports_data",
   "language": "python",
   "name": "python3"
  },
  "language_info": {
   "codemirror_mode": {
    "name": "ipython",
    "version": 3
   },
   "file_extension": ".py",
   "mimetype": "text/x-python",
   "name": "python",
   "nbconvert_exporter": "python",
   "pygments_lexer": "ipython3",
   "version": "3.12.0b3"
  }
 },
 "nbformat": 4,
 "nbformat_minor": 2
}
