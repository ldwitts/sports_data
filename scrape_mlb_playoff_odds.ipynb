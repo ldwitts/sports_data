{
 "cells": [
  {
   "cell_type": "code",
   "execution_count": 3,
   "metadata": {},
   "outputs": [],
   "source": [
    "#Imports\n",
    "import pandas as pd\n",
    "from selenium import webdriver\n",
    "from selenium.webdriver.chrome.service import Service\n",
    "from selenium.webdriver.common.by import By\n",
    "from selenium.webdriver.support.ui import WebDriverWait\n",
    "from selenium.webdriver.support import expected_conditions as EC\n",
    "from bs4 import BeautifulSoup\n",
    "from io import StringIO\n",
    "from typing import List, IO"
   ]
  },
  {
   "cell_type": "code",
   "execution_count": 4,
   "metadata": {},
   "outputs": [],
   "source": [
    "# Set up Selenium\n",
    "service: Service = Service()\n",
    "options: webdriver.ChromeOptions = webdriver.ChromeOptions()\n",
    "options.add_argument('--headless')  # Run in headless mode (no GUI)\n",
    "options.add_argument('--no-sandbox')  # Bypass OS security model, needed for running in Docker\n",
    "options.add_argument('--disable-dev-shm-usage')  # Overcome limited resource problems\n",
    "driver: webdriver.Chrome = webdriver.Chrome(service=service, options=options)"
   ]
  },
  {
   "cell_type": "code",
   "execution_count": 5,
   "metadata": {},
   "outputs": [],
   "source": [
    "# URL to scrape\n",
    "url: str = \"https://www.fangraphs.com/standings/playoff-odds\""
   ]
  },
  {
   "cell_type": "code",
   "execution_count": 6,
   "metadata": {},
   "outputs": [],
   "source": [
    "# Navigate to the page\n",
    "driver.get(url)"
   ]
  },
  {
   "cell_type": "code",
   "execution_count": 7,
   "metadata": {},
   "outputs": [
    {
     "data": {
      "text/plain": [
       "[<selenium.webdriver.remote.webelement.WebElement (session=\"268f11edfb0d73151af23280d7a85a57\", element=\"f.313291DEA46B2472D8FC79F930AFF7BD.d.28AD79CDA53D6BC2B566C1AB6A809FE2.e.85\")>,\n",
       " <selenium.webdriver.remote.webelement.WebElement (session=\"268f11edfb0d73151af23280d7a85a57\", element=\"f.313291DEA46B2472D8FC79F930AFF7BD.d.28AD79CDA53D6BC2B566C1AB6A809FE2.e.86\")>,\n",
       " <selenium.webdriver.remote.webelement.WebElement (session=\"268f11edfb0d73151af23280d7a85a57\", element=\"f.313291DEA46B2472D8FC79F930AFF7BD.d.28AD79CDA53D6BC2B566C1AB6A809FE2.e.87\")>,\n",
       " <selenium.webdriver.remote.webelement.WebElement (session=\"268f11edfb0d73151af23280d7a85a57\", element=\"f.313291DEA46B2472D8FC79F930AFF7BD.d.28AD79CDA53D6BC2B566C1AB6A809FE2.e.88\")>,\n",
       " <selenium.webdriver.remote.webelement.WebElement (session=\"268f11edfb0d73151af23280d7a85a57\", element=\"f.313291DEA46B2472D8FC79F930AFF7BD.d.28AD79CDA53D6BC2B566C1AB6A809FE2.e.89\")>,\n",
       " <selenium.webdriver.remote.webelement.WebElement (session=\"268f11edfb0d73151af23280d7a85a57\", element=\"f.313291DEA46B2472D8FC79F930AFF7BD.d.28AD79CDA53D6BC2B566C1AB6A809FE2.e.90\")>,\n",
       " <selenium.webdriver.remote.webelement.WebElement (session=\"268f11edfb0d73151af23280d7a85a57\", element=\"f.313291DEA46B2472D8FC79F930AFF7BD.d.28AD79CDA53D6BC2B566C1AB6A809FE2.e.91\")>,\n",
       " <selenium.webdriver.remote.webelement.WebElement (session=\"268f11edfb0d73151af23280d7a85a57\", element=\"f.313291DEA46B2472D8FC79F930AFF7BD.d.28AD79CDA53D6BC2B566C1AB6A809FE2.e.92\")>,\n",
       " <selenium.webdriver.remote.webelement.WebElement (session=\"268f11edfb0d73151af23280d7a85a57\", element=\"f.313291DEA46B2472D8FC79F930AFF7BD.d.28AD79CDA53D6BC2B566C1AB6A809FE2.e.93\")>,\n",
       " <selenium.webdriver.remote.webelement.WebElement (session=\"268f11edfb0d73151af23280d7a85a57\", element=\"f.313291DEA46B2472D8FC79F930AFF7BD.d.28AD79CDA53D6BC2B566C1AB6A809FE2.e.94\")>,\n",
       " <selenium.webdriver.remote.webelement.WebElement (session=\"268f11edfb0d73151af23280d7a85a57\", element=\"f.313291DEA46B2472D8FC79F930AFF7BD.d.28AD79CDA53D6BC2B566C1AB6A809FE2.e.95\")>,\n",
       " <selenium.webdriver.remote.webelement.WebElement (session=\"268f11edfb0d73151af23280d7a85a57\", element=\"f.313291DEA46B2472D8FC79F930AFF7BD.d.28AD79CDA53D6BC2B566C1AB6A809FE2.e.96\")>]"
      ]
     },
     "execution_count": 7,
     "metadata": {},
     "output_type": "execute_result"
    }
   ],
   "source": [
    "# Wait for the tables to load\n",
    "wait: WebDriverWait = WebDriverWait(driver, 10)\n",
    "wait.until(EC.presence_of_all_elements_located((By.CLASS_NAME, 'playoff-odds-table')))"
   ]
  },
  {
   "cell_type": "code",
   "execution_count": 8,
   "metadata": {},
   "outputs": [],
   "source": [
    "# Get the page source and parse with BeautifulSoup\n",
    "soup: BeautifulSoup = BeautifulSoup(driver.page_source, 'html.parser')"
   ]
  },
  {
   "cell_type": "code",
   "execution_count": 9,
   "metadata": {},
   "outputs": [],
   "source": [
    "# Find all tables with class \"playoff-odds-table\"\n",
    "tables: List[BeautifulSoup] = soup.find_all('table', class_='playoff-odds-table')"
   ]
  },
  {
   "cell_type": "code",
   "execution_count": 10,
   "metadata": {},
   "outputs": [],
   "source": [
    "# Close the Selenium driver\n",
    "driver.quit()"
   ]
  },
  {
   "cell_type": "code",
   "execution_count": 21,
   "metadata": {},
   "outputs": [],
   "source": [
    "unique_tables = set(tables)"
   ]
  },
  {
   "cell_type": "code",
   "execution_count": 22,
   "metadata": {},
   "outputs": [],
   "source": [
    "df_list: List[pd.DataFrame]\n",
    "for index, table in enumerate(unique_tables):\n",
    "    html_str: str = str(table)\n",
    "    html_io: IO[str] = StringIO(html_str)\n",
    "    df_list.append(pd.read_html(html_io))"
   ]
  },
  {
   "cell_type": "code",
   "execution_count": 26,
   "metadata": {},
   "outputs": [
    {
     "name": "stdout",
     "output_type": "stream",
     "text": [
      "[        Unnamed: 0_level_0 2024 Results                   2024 Projections  \\\n",
      "        Unnamed: 0_level_1 2024 Results                  [+]Regular Season   \n",
      "               TeamNL East            W   L     W%    GB            Proj W   \n",
      "0    PhilliesPhillies38-18           38  18  0.679   0.0              94.3   \n",
      "1        BravesBraves31-21           31  21  0.596   5.0              92.8   \n",
      "2            MetsMets22-32           22  32  0.407  15.0              77.0   \n",
      "3  NationalsNationals24-29           24  29  0.453  12.5              70.5   \n",
      "4      MarlinsMarlins19-37           19  37  0.339  19.0              68.3   \n",
      "\n",
      "                                           ...                       \\\n",
      "                                           ...        [+]Postseason   \n",
      "  Proj L ROS W% Strength of Sched Win Div  ... Unnamed: 103_level_2   \n",
      "0   67.7  0.531             0.506   56.3%  ...                  NaN   \n",
      "1   69.2  0.562             0.492   43.5%  ...                  NaN   \n",
      "2   85.0  0.509             0.492    0.3%  ...                  NaN   \n",
      "3   91.5  0.427             0.502    0.0%  ...                  NaN   \n",
      "4   93.7  0.465             0.501    0.0%  ...                  NaN   \n",
      "\n",
      "                       Unnamed: 105_level_0 Unnamed: 106_level_0  \\\n",
      "                              [+]Postseason        [+]Postseason   \n",
      "  Unnamed: 104_level_2 Unnamed: 105_level_2 Unnamed: 106_level_2   \n",
      "0                  NaN                  NaN                  NaN   \n",
      "1                  NaN                  NaN                  NaN   \n",
      "2                  NaN                  NaN                  NaN   \n",
      "3                  NaN                  NaN                  NaN   \n",
      "4                  NaN                  NaN                  NaN   \n",
      "\n",
      "  Unnamed: 107_level_0 Unnamed: 108_level_0 Unnamed: 109_level_0  \\\n",
      "         [+]Postseason        [+]Postseason        [+]Postseason   \n",
      "  Unnamed: 107_level_2 Unnamed: 108_level_2 Unnamed: 109_level_2   \n",
      "0                  NaN                  NaN                  NaN   \n",
      "1                  NaN                  NaN                  NaN   \n",
      "2                  NaN                  NaN                  NaN   \n",
      "3                  NaN                  NaN                  NaN   \n",
      "4                  NaN                  NaN                  NaN   \n",
      "\n",
      "  Unnamed: 110_level_0 Unnamed: 111_level_0 Unnamed: 112_level_0  \n",
      "         [+]Postseason        [+]Postseason        [+]Postseason  \n",
      "  Unnamed: 110_level_2 Unnamed: 111_level_2 Unnamed: 112_level_2  \n",
      "0                  NaN                  NaN                  NaN  \n",
      "1                  NaN                  NaN                  NaN  \n",
      "2                  NaN                  NaN                  NaN  \n",
      "3                  NaN                  NaN                  NaN  \n",
      "4                  NaN                  NaN                  NaN  \n",
      "\n",
      "[5 rows x 113 columns]]\n"
     ]
    }
   ],
   "source": [
    "print(df_list[3])"
   ]
  },
  {
   "cell_type": "code",
   "execution_count": null,
   "metadata": {},
   "outputs": [],
   "source": []
  }
 ],
 "metadata": {
  "kernelspec": {
   "display_name": "sports_data",
   "language": "python",
   "name": "python3"
  },
  "language_info": {
   "codemirror_mode": {
    "name": "ipython",
    "version": 3
   },
   "file_extension": ".py",
   "mimetype": "text/x-python",
   "name": "python",
   "nbconvert_exporter": "python",
   "pygments_lexer": "ipython3",
   "version": "3.12.3"
  }
 },
 "nbformat": 4,
 "nbformat_minor": 2
}
