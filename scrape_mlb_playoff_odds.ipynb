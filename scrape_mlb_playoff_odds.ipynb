{
 "cells": [
  {
   "cell_type": "code",
   "execution_count": 3,
   "metadata": {},
   "outputs": [],
   "source": [
    "#Imports\n",
    "import pandas as pd\n",
    "from selenium import webdriver\n",
    "from selenium.webdriver.chrome.service import Service\n",
    "from selenium.webdriver.common.by import By\n",
    "from selenium.webdriver.support.ui import WebDriverWait\n",
    "from selenium.webdriver.support import expected_conditions as EC\n",
    "from bs4 import BeautifulSoup\n",
    "from io import StringIO\n",
    "from typing import List, IO"
   ]
  },
  {
   "cell_type": "code",
   "execution_count": 4,
   "metadata": {},
   "outputs": [],
   "source": [
    "# Set up Selenium\n",
    "service: Service = Service()\n",
    "options: webdriver.ChromeOptions = webdriver.ChromeOptions()\n",
    "options.add_argument('--headless')  # Run in headless mode (no GUI)\n",
    "options.add_argument('--no-sandbox')  # Bypass OS security model, needed for running in Docker\n",
    "options.add_argument('--disable-dev-shm-usage')  # Overcome limited resource problems\n",
    "driver: webdriver.Chrome = webdriver.Chrome(service=service, options=options)"
   ]
  },
  {
   "cell_type": "code",
   "execution_count": 5,
   "metadata": {},
   "outputs": [],
   "source": [
    "# URL to scrape\n",
    "url: str = \"https://www.fangraphs.com/standings/playoff-odds\""
   ]
  },
  {
   "cell_type": "code",
   "execution_count": 6,
   "metadata": {},
   "outputs": [],
   "source": [
    "# Navigate to the page\n",
    "driver.get(url)"
   ]
  },
  {
   "cell_type": "code",
   "execution_count": 7,
   "metadata": {},
   "outputs": [
    {
     "data": {
      "text/plain": [
       "[<selenium.webdriver.remote.webelement.WebElement (session=\"268f11edfb0d73151af23280d7a85a57\", element=\"f.313291DEA46B2472D8FC79F930AFF7BD.d.28AD79CDA53D6BC2B566C1AB6A809FE2.e.85\")>,\n",
       " <selenium.webdriver.remote.webelement.WebElement (session=\"268f11edfb0d73151af23280d7a85a57\", element=\"f.313291DEA46B2472D8FC79F930AFF7BD.d.28AD79CDA53D6BC2B566C1AB6A809FE2.e.86\")>,\n",
       " <selenium.webdriver.remote.webelement.WebElement (session=\"268f11edfb0d73151af23280d7a85a57\", element=\"f.313291DEA46B2472D8FC79F930AFF7BD.d.28AD79CDA53D6BC2B566C1AB6A809FE2.e.87\")>,\n",
       " <selenium.webdriver.remote.webelement.WebElement (session=\"268f11edfb0d73151af23280d7a85a57\", element=\"f.313291DEA46B2472D8FC79F930AFF7BD.d.28AD79CDA53D6BC2B566C1AB6A809FE2.e.88\")>,\n",
       " <selenium.webdriver.remote.webelement.WebElement (session=\"268f11edfb0d73151af23280d7a85a57\", element=\"f.313291DEA46B2472D8FC79F930AFF7BD.d.28AD79CDA53D6BC2B566C1AB6A809FE2.e.89\")>,\n",
       " <selenium.webdriver.remote.webelement.WebElement (session=\"268f11edfb0d73151af23280d7a85a57\", element=\"f.313291DEA46B2472D8FC79F930AFF7BD.d.28AD79CDA53D6BC2B566C1AB6A809FE2.e.90\")>,\n",
       " <selenium.webdriver.remote.webelement.WebElement (session=\"268f11edfb0d73151af23280d7a85a57\", element=\"f.313291DEA46B2472D8FC79F930AFF7BD.d.28AD79CDA53D6BC2B566C1AB6A809FE2.e.91\")>,\n",
       " <selenium.webdriver.remote.webelement.WebElement (session=\"268f11edfb0d73151af23280d7a85a57\", element=\"f.313291DEA46B2472D8FC79F930AFF7BD.d.28AD79CDA53D6BC2B566C1AB6A809FE2.e.92\")>,\n",
       " <selenium.webdriver.remote.webelement.WebElement (session=\"268f11edfb0d73151af23280d7a85a57\", element=\"f.313291DEA46B2472D8FC79F930AFF7BD.d.28AD79CDA53D6BC2B566C1AB6A809FE2.e.93\")>,\n",
       " <selenium.webdriver.remote.webelement.WebElement (session=\"268f11edfb0d73151af23280d7a85a57\", element=\"f.313291DEA46B2472D8FC79F930AFF7BD.d.28AD79CDA53D6BC2B566C1AB6A809FE2.e.94\")>,\n",
       " <selenium.webdriver.remote.webelement.WebElement (session=\"268f11edfb0d73151af23280d7a85a57\", element=\"f.313291DEA46B2472D8FC79F930AFF7BD.d.28AD79CDA53D6BC2B566C1AB6A809FE2.e.95\")>,\n",
       " <selenium.webdriver.remote.webelement.WebElement (session=\"268f11edfb0d73151af23280d7a85a57\", element=\"f.313291DEA46B2472D8FC79F930AFF7BD.d.28AD79CDA53D6BC2B566C1AB6A809FE2.e.96\")>]"
      ]
     },
     "execution_count": 7,
     "metadata": {},
     "output_type": "execute_result"
    }
   ],
   "source": [
    "# Wait for the tables to load\n",
    "wait: WebDriverWait = WebDriverWait(driver, 10)\n",
    "wait.until(EC.presence_of_all_elements_located((By.CLASS_NAME, 'playoff-odds-table')))"
   ]
  },
  {
   "cell_type": "code",
   "execution_count": 8,
   "metadata": {},
   "outputs": [],
   "source": [
    "# Get the page source and parse with BeautifulSoup\n",
    "soup: BeautifulSoup = BeautifulSoup(driver.page_source, 'html.parser')"
   ]
  },
  {
   "cell_type": "code",
   "execution_count": 9,
   "metadata": {},
   "outputs": [],
   "source": [
    "# Find all tables with class \"playoff-odds-table\"\n",
    "tables: List[BeautifulSoup] = soup.find_all('table', class_='playoff-odds-table')"
   ]
  },
  {
   "cell_type": "code",
   "execution_count": 10,
   "metadata": {},
   "outputs": [],
   "source": [
    "# Close the Selenium driver\n",
    "driver.quit()"
   ]
  }
 ],
 "metadata": {
  "kernelspec": {
   "display_name": "sports_data",
   "language": "python",
   "name": "python3"
  },
  "language_info": {
   "codemirror_mode": {
    "name": "ipython",
    "version": 3
   },
   "file_extension": ".py",
   "mimetype": "text/x-python",
   "name": "python",
   "nbconvert_exporter": "python",
   "pygments_lexer": "ipython3",
   "version": "3.12.3"
  }
 },
 "nbformat": 4,
 "nbformat_minor": 2
}
